{
 "cells": [
  {
   "cell_type": "code",
   "execution_count": 1,
   "metadata": {},
   "outputs": [],
   "source": [
    "from utils.data_processing import load_data\n",
    "from utils.visualization import plot_variable_comparison"
   ]
  },
  {
   "cell_type": "code",
   "execution_count": 2,
   "metadata": {},
   "outputs": [],
   "source": [
    "df = load_data(\n",
    "    './data/body_composition.csv',\n",
    "    date_from='2024-04-01',\n",
    "    date_to='2025-05-31',\n",
    "    device_id='aNyZC8jwH3'\n",
    ")"
   ]
  },
  {
   "cell_type": "code",
   "execution_count": null,
   "metadata": {},
   "outputs": [],
   "source": [
    "df.tail()"
   ]
  },
  {
   "cell_type": "code",
   "execution_count": null,
   "metadata": {},
   "outputs": [],
   "source": [
    "plot_variable_comparison(df, \"weight\", \"skeletal_muscle_mass\", x_label=\"Weight (kg)\", y_label=\"Skeletal Muscle Mass (kg)\")\n",
    "plot_variable_comparison(df, \"weight\", \"body_fat_mass\", x_label=\"Weight (kg)\", y_label=\"Body Fat Mass (kg)\")\n",
    "plot_variable_comparison(df, \"weight\", \"basal_metabolic_rate\", x_label=\"Weight (kg)\", y_label=\"Basal Metabolic Rate (kcal)\")"
   ]
  },
  {
   "cell_type": "code",
   "execution_count": null,
   "metadata": {},
   "outputs": [],
   "source": []
  }
 ],
 "metadata": {
  "kernelspec": {
   "display_name": ".venv",
   "language": "python",
   "name": "python3"
  },
  "language_info": {
   "codemirror_mode": {
    "name": "ipython",
    "version": 3
   },
   "file_extension": ".py",
   "mimetype": "text/x-python",
   "name": "python",
   "nbconvert_exporter": "python",
   "pygments_lexer": "ipython3",
   "version": "3.11.11"
  }
 },
 "nbformat": 4,
 "nbformat_minor": 2
}
