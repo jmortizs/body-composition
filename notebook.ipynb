{
 "cells": [
  {
   "cell_type": "code",
   "execution_count": 1,
   "metadata": {},
   "outputs": [],
   "source": [
    "from utils.data_processing import calculate_monthly_stats, load_data\n",
    "from utils.visualization import (plot_monthly_body_composition_stacked,\n",
    "                                 plot_monthly_progress,\n",
    "                                 plot_monthly_progress_boxplot,\n",
    "                                 plot_variable_comparison,\n",
    "                                 plot_daily_progress)\n",
    "import polars as pl"
   ]
  },
  {
   "cell_type": "code",
   "execution_count": 2,
   "metadata": {},
   "outputs": [],
   "source": [
    "df = load_data(\n",
    "    './data/body_composition.csv',\n",
    "    date_from='2025-04-01',\n",
    "    date_to='2025-06-30',\n",
    "    # device_id='aNyZC8jwH3'\n",
    ")\n"
   ]
  },
  {
   "cell_type": "code",
   "execution_count": null,
   "metadata": {},
   "outputs": [],
   "source": [
    "df.tail()"
   ]
  },
  {
   "cell_type": "code",
   "execution_count": null,
   "metadata": {},
   "outputs": [],
   "source": [
    "fig_size = (12, 8) # (8, 7) for mobile, (12, 8) for desktop\n",
    "plot_monthly_progress_boxplot(df, \"weight\", figsize=fig_size, y_label=\"Weight (kg)\")\n",
    "plot_monthly_progress_boxplot(df, \"muscle_mass\", figsize=fig_size, y_label=\"Muscle Mass (kg)\")\n",
    "plot_monthly_progress_boxplot(df, \"body_fat_mass\", figsize=fig_size, y_label=\"Body Fat Mass (kg)\")\n",
    "plot_monthly_progress_boxplot(df, \"basal_metabolic_rate\", figsize=fig_size, y_label=\"Basal Metabolic Rate (kcal)\")"
   ]
  },
  {
   "cell_type": "code",
   "execution_count": null,
   "metadata": {},
   "outputs": [],
   "source": [
    "fig_size = (8, 7) # (8, 7) for mobile, (12, 8) for desktop\n",
    "plot_daily_progress(df, \"muscle_mass\", use_elapsed_days=False, figsize=fig_size)\n",
    "plot_daily_progress(df, \"body_fat_mass\", use_elapsed_days=False, figsize=fig_size)\n",
    "plot_daily_progress(df, \"weight\", use_elapsed_days=False, figsize=fig_size)"
   ]
  },
  {
   "cell_type": "code",
   "execution_count": 6,
   "metadata": {},
   "outputs": [],
   "source": [
    "# df_monthly = calculate_monthly_stats(df)\n",
    "# df_monthly.tail()"
   ]
  },
  {
   "cell_type": "code",
   "execution_count": null,
   "metadata": {},
   "outputs": [],
   "source": [
    "plot_monthly_body_composition_stacked(\n",
    "    df=df,\n",
    "    title=\"Body Composition percentage\",\n",
    "    figsize=(8, 7)\n",
    ")"
   ]
  },
  {
   "cell_type": "code",
   "execution_count": null,
   "metadata": {},
   "outputs": [],
   "source": [
    "fig_size = (8, 7) # (8, 7) for mobile, (12, 8) for desktop\n",
    "plot_variable_comparison(df, \"weight\", \"muscle_mass\", x_label=\"Weight (kg)\", y_label=\"Muscle Mass (kg)\", figsize=fig_size)\n",
    "plot_variable_comparison(df, \"weight\", \"body_fat_mass\", x_label=\"Weight (kg)\", y_label=\"Body Fat Mass (kg)\", figsize=fig_size)\n",
    "plot_variable_comparison(df, \"weight\", \"basal_metabolic_rate\", x_label=\"Weight (kg)\", y_label=\"Basal Metabolic Rate (kcal)\", figsize=fig_size)"
   ]
  },
  {
   "cell_type": "code",
   "execution_count": 9,
   "metadata": {},
   "outputs": [],
   "source": [
    "# fig_size = (12, 8) # (8, 7) for mobile, (12, 8) for desktop\n",
    "# plot_monthly_progress(df_monthly, \"weight\", y_label=\"Weight (kg)\", figsize=fig_size )\n",
    "# plot_monthly_progress(df_monthly, \"muscle_mass\", y_label=\"Muscle Mass (kg)\", figsize=fig_size)\n",
    "# plot_monthly_progress(df_monthly, \"body_fat_mass\", y_label=\"Body Fat Mass (kg)\", positive_change=False, figsize=fig_size)\n",
    "# plot_monthly_progress(df_monthly, \"basal_metabolic_rate\", y_label=\"Basal Metabolic Rate (kcal)\", figsize=fig_size)"
   ]
  }
 ],
 "metadata": {
  "kernelspec": {
   "display_name": ".venv",
   "language": "python",
   "name": "python3"
  },
  "language_info": {
   "codemirror_mode": {
    "name": "ipython",
    "version": 3
   },
   "file_extension": ".py",
   "mimetype": "text/x-python",
   "name": "python",
   "nbconvert_exporter": "python",
   "pygments_lexer": "ipython3",
   "version": "3.11.10"
  }
 },
 "nbformat": 4,
 "nbformat_minor": 2
}
