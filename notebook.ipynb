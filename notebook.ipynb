{
 "cells": [
  {
   "cell_type": "code",
   "execution_count": 1,
   "metadata": {},
   "outputs": [],
   "source": [
    "from utils.data_processing import load_data, calculate_monthly_stats\n",
    "from utils.visualization import plot_variable_comparison, plot_monthly_progress"
   ]
  },
  {
   "cell_type": "code",
   "execution_count": 2,
   "metadata": {},
   "outputs": [],
   "source": [
    "df = load_data(\n",
    "    './data/body_composition.csv',\n",
    "    date_from='2024-04-01',\n",
    "    date_to='2025-05-01',\n",
    "    # device_id='aNyZC8jwH3'\n",
    ")"
   ]
  },
  {
   "cell_type": "code",
   "execution_count": null,
   "metadata": {},
   "outputs": [],
   "source": [
    "df.tail()"
   ]
  },
  {
   "cell_type": "code",
   "execution_count": null,
   "metadata": {},
   "outputs": [],
   "source": [
    "df_monthly = calculate_monthly_stats(df)\n",
    "df_monthly.tail()"
   ]
  },
  {
   "cell_type": "code",
   "execution_count": null,
   "metadata": {},
   "outputs": [],
   "source": [
    "fig_size = (8, 7) # (8, 7) for mobile, (12, 8) for desktop\n",
    "plot_variable_comparison(df, \"weight\", \"muscle_mass\", x_label=\"Weight (kg)\", y_label=\"Muscle Mass (kg)\", figsize=fig_size)\n",
    "plot_variable_comparison(df, \"weight\", \"body_fat_mass\", x_label=\"Weight (kg)\", y_label=\"Body Fat Mass (kg)\", figsize=fig_size)\n",
    "plot_variable_comparison(df, \"weight\", \"basal_metabolic_rate\", x_label=\"Weight (kg)\", y_label=\"Basal Metabolic Rate (kcal)\")"
   ]
  },
  {
   "cell_type": "code",
   "execution_count": null,
   "metadata": {},
   "outputs": [],
   "source": [
    "fig_size = (12, 8) # (8, 7) for mobile, (12, 8) for desktop\n",
    "plot_monthly_progress(df_monthly, \"weight\", y_label=\"Weight (kg)\", figsize=fig_size )\n",
    "plot_monthly_progress(df_monthly, \"muscle_mass\", y_label=\"Muscle Mass (kg)\", figsize=fig_size)\n",
    "plot_monthly_progress(df_monthly, \"body_fat_mass\", y_label=\"Body Fat Mass (kg)\", positive_change=False, figsize=fig_size)\n",
    "plot_monthly_progress(df_monthly, \"basal_metabolic_rate\", y_label=\"Basal Metabolic Rate (kcal)\", figsize=fig_size)"
   ]
  }
 ],
 "metadata": {
  "kernelspec": {
   "display_name": ".venv",
   "language": "python",
   "name": "python3"
  },
  "language_info": {
   "codemirror_mode": {
    "name": "ipython",
    "version": 3
   },
   "file_extension": ".py",
   "mimetype": "text/x-python",
   "name": "python",
   "nbconvert_exporter": "python",
   "pygments_lexer": "ipython3",
   "version": "3.11.10"
  }
 },
 "nbformat": 4,
 "nbformat_minor": 2
}
